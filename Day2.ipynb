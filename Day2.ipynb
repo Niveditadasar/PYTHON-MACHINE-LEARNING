{
  "nbformat": 4,
  "nbformat_minor": 0,
  "metadata": {
    "colab": {
      "provenance": []
    },
    "kernelspec": {
      "name": "python3",
      "display_name": "Python 3"
    },
    "language_info": {
      "name": "python"
    }
  },
  "cells": [
    {
      "cell_type": "code",
      "execution_count": null,
      "metadata": {
        "id": "CgukwLnpEpUu"
      },
      "outputs": [],
      "source": [
        "#dictionary creation\n",
        "person={\n",
        "    \"name\":\"Alice Johnson\",\n",
        "    \"age\":23,\n",
        "    \"profession\":\"software Engineer\",\n",
        "    \"salary\":15000,\n",
        "    \"skills\":[\"python\",\"JavaScript\",\"SQL\"]\n",
        "}"
      ]
    },
    {
      "cell_type": "code",
      "source": [],
      "metadata": {
        "id": "FO4iejOKFaTV"
      },
      "execution_count": null,
      "outputs": []
    },
    {
      "cell_type": "markdown",
      "source": [
        "Accessing values\n"
      ],
      "metadata": {
        "id": "mCRn1XzaFd1U"
      }
    },
    {
      "cell_type": "code",
      "source": [
        "print(f\"name:{person['name']}\")\n",
        "print(f\"age:{person.get('age','unknown')}\")#safe access"
      ],
      "metadata": {
        "colab": {
          "base_uri": "https://localhost:8080/"
        },
        "id": "Tz29I1WDFh0E",
        "outputId": "2a51d0b8-e0ec-4244-ad88-c4d9e1a16f4f"
      },
      "execution_count": null,
      "outputs": [
        {
          "output_type": "stream",
          "name": "stdout",
          "text": [
            "name:Alice Johnson\n",
            "age:23\n"
          ]
        }
      ]
    },
    {
      "cell_type": "markdown",
      "source": [
        "Dictionary methods"
      ],
      "metadata": {
        "id": "cZi20oTOGCtM"
      }
    },
    {
      "cell_type": "code",
      "source": [
        "print(f\"keys:{list(person.keys())}\")\n",
        "print(f\"Values:{list(person.values())}\")\n",
        "print(f\"Items:{list(person.items())}\")"
      ],
      "metadata": {
        "colab": {
          "base_uri": "https://localhost:8080/"
        },
        "id": "muSQVkn2GI7U",
        "outputId": "44e4d011-9bdd-4842-9a14-950d678c7747"
      },
      "execution_count": null,
      "outputs": [
        {
          "output_type": "stream",
          "name": "stdout",
          "text": [
            "keys:['name', 'age', 'profession', 'salary', 'skills']\n",
            "Values:['Alice Johnson', 23, 'software Engineer', 15000, ['python', 'JavaScript', 'SQL']]\n",
            "Items:[('name', 'Alice Johnson'), ('age', 23), ('profession', 'software Engineer'), ('salary', 15000), ('skills', ['python', 'JavaScript', 'SQL'])]\n"
          ]
        }
      ]
    },
    {
      "cell_type": "markdown",
      "source": [
        "Adding/updating"
      ],
      "metadata": {
        "id": "e5uLujErHHd0"
      }
    },
    {
      "cell_type": "code",
      "source": [
        "person[\"location\"]=\"New York\"\n",
        "person[\"salary\"]=20000"
      ],
      "metadata": {
        "id": "oAxxU0GDHLTE"
      },
      "execution_count": null,
      "outputs": []
    },
    {
      "cell_type": "markdown",
      "source": [
        "Practical use case:Inventory management"
      ],
      "metadata": {
        "id": "8xavSoNmHkGU"
      }
    },
    {
      "cell_type": "code",
      "source": [
        "inventory={\n",
        "    \"laptops\":{\n",
        "        \"quantity\":50,\n",
        "        \"price\":999.99\n",
        "    },\n",
        "    \"phones\":{\n",
        "        \"quantity\":100,\n",
        "        \"price\":599.99\n",
        "    },\n",
        "    \"tablets\":{\n",
        "        \"quantity\":30,\n",
        "        \"price\":399.99\n",
        "    }\n",
        "}"
      ],
      "metadata": {
        "id": "SNZw46c1Hti0"
      },
      "execution_count": null,
      "outputs": []
    },
    {
      "cell_type": "markdown",
      "source": [
        "Nested access"
      ],
      "metadata": {
        "id": "i1A_kARVJFr8"
      }
    },
    {
      "cell_type": "code",
      "source": [
        "print(f\"Laptop price:${inventory['laptops']['price']}\")"
      ],
      "metadata": {
        "colab": {
          "base_uri": "https://localhost:8080/"
        },
        "id": "asrBzuIhJFLd",
        "outputId": "ae94059d-29b2-4d39-8001-e831fbf1ade2"
      },
      "execution_count": null,
      "outputs": [
        {
          "output_type": "stream",
          "name": "stdout",
          "text": [
            "Laptop price:$999.99\n"
          ]
        }
      ]
    },
    {
      "cell_type": "markdown",
      "source": [
        "Sets contain unique element"
      ],
      "metadata": {
        "id": "-zAiCY6BKOrs"
      }
    },
    {
      "cell_type": "code",
      "source": [
        "colors={\"red\",\"blue\",\"black\",\"red\"}\n",
        "print(f\"colors:{colors}\")"
      ],
      "metadata": {
        "colab": {
          "base_uri": "https://localhost:8080/"
        },
        "id": "BsKgZbGpKVfl",
        "outputId": "01c80eca-7018-4a87-9734-b8f03c170e17"
      },
      "execution_count": null,
      "outputs": [
        {
          "output_type": "stream",
          "name": "stdout",
          "text": [
            "colors:{'blue', 'black', 'red'}\n"
          ]
        }
      ]
    },
    {
      "cell_type": "code",
      "source": [],
      "metadata": {
        "id": "h_B8hyO-KoxU"
      },
      "execution_count": null,
      "outputs": []
    },
    {
      "cell_type": "markdown",
      "source": [
        "Set operations"
      ],
      "metadata": {
        "id": "608PG6XgKqPc"
      }
    },
    {
      "cell_type": "code",
      "source": [
        "team1_skills={\"python\",\"javascript\",\"SQL\",\"react\"}\n",
        "team2_skills={\"JavaScript\",\"SQL\",\"Java\",\"Spring\"}"
      ],
      "metadata": {
        "id": "Z0fvGd6QKtpV"
      },
      "execution_count": null,
      "outputs": []
    },
    {
      "cell_type": "markdown",
      "source": [
        "common operation"
      ],
      "metadata": {
        "id": "Q-Zw5WdzLJSF"
      }
    },
    {
      "cell_type": "code",
      "source": [
        "print(f\"Common skills:{team1_skills.intersection(team2_skills)}\")\n",
        "print(f\"All skills:{team1_skills.union(team2_skills)}\")\n",
        "print(f\"team only:{team1_skills.difference(team2_skills)}\")"
      ],
      "metadata": {
        "colab": {
          "base_uri": "https://localhost:8080/"
        },
        "id": "2rirdFmsLQFl",
        "outputId": "10647c98-0d82-419d-9b22-0be9b80d964f"
      },
      "execution_count": null,
      "outputs": [
        {
          "output_type": "stream",
          "name": "stdout",
          "text": [
            "Common skills:{'SQL'}\n",
            "All skills:{'SQL', 'javascript', 'python', 'JavaScript', 'Java', 'react', 'Spring'}\n",
            "team only:{'javascript', 'react', 'python'}\n"
          ]
        }
      ]
    },
    {
      "cell_type": "code",
      "source": [
        "colors.add(\"purple\")\n",
        "colors.update([\"wheat\",\"blue\"])\n",
        "print(f\"update colors:{colors}\")"
      ],
      "metadata": {
        "colab": {
          "base_uri": "https://localhost:8080/"
        },
        "id": "52etOPpaMY2F",
        "outputId": "5918adb2-4b1f-427a-8061-2cd9c5589b15"
      },
      "execution_count": null,
      "outputs": [
        {
          "output_type": "stream",
          "name": "stdout",
          "text": [
            "update colors:{'blue', 'wheat', 'red', 'purple', 'black'}\n"
          ]
        }
      ]
    },
    {
      "cell_type": "code",
      "source": [],
      "metadata": {
        "id": "Y3qNj6jbNLDl"
      },
      "execution_count": null,
      "outputs": []
    },
    {
      "cell_type": "markdown",
      "source": [
        "control flow"
      ],
      "metadata": {
        "id": "U3fJmhk3Pa9O"
      }
    },
    {
      "cell_type": "markdown",
      "source": [
        "conditional statement"
      ],
      "metadata": {
        "id": "TOSzO76tPisd"
      }
    },
    {
      "cell_type": "markdown",
      "source": [
        "Basic if-else"
      ],
      "metadata": {
        "id": "VFq2EfL6PrGF"
      }
    },
    {
      "cell_type": "code",
      "source": [
        "def get_grade_letter(score):\n",
        "  if score>=90:\n",
        "    return \"A\"\n",
        "  elif score>=80:\n",
        "    return \"B\"\n",
        "  elif score>=70:\n",
        "    return \"C\"\n",
        "  elif score>=60:\n",
        "    return \"D\"\n",
        "  else:\n",
        "    return \"F\""
      ],
      "metadata": {
        "id": "zFaIpkSAPz2l"
      },
      "execution_count": null,
      "outputs": []
    },
    {
      "cell_type": "markdown",
      "source": [
        "Test the Function"
      ],
      "metadata": {
        "id": "GX9cxW3iQoQ2"
      }
    },
    {
      "cell_type": "code",
      "source": [
        "test_scores=[95,83,72,65,58]\n",
        "for score in test_scores:\n",
        "  grade=get_grade_letter(score)\n",
        "  print(f\"score {score}: Grade {grade}\")"
      ],
      "metadata": {
        "colab": {
          "base_uri": "https://localhost:8080/"
        },
        "id": "gDmKQGfbQrtd",
        "outputId": "2508900c-2647-4631-b972-9a1a994b2d69"
      },
      "execution_count": null,
      "outputs": [
        {
          "output_type": "stream",
          "name": "stdout",
          "text": [
            "score 95: Grade A\n",
            "score 83: Grade B\n",
            "score 72: Grade C\n",
            "score 65: Grade D\n",
            "score 58: Grade F\n"
          ]
        }
      ]
    },
    {
      "cell_type": "markdown",
      "source": [
        "Nested conditions"
      ],
      "metadata": {
        "id": "YAmEMk1XRpId"
      }
    },
    {
      "cell_type": "code",
      "source": [
        "def get_shipping_cost(weight,distance):\n",
        "  base_cost=5.0\n",
        "\n",
        "  if weight<=1:\n",
        "    weight_cost=2.0\n",
        "  elif weight<=5:\n",
        "    weight_cost=5.0\n",
        "  else:\n",
        "    weight_cost=10.0\n",
        "\n",
        "  if distance<=100:\n",
        "    distance_cost=1.0\n",
        "  elif distance<=500:\n",
        "    distance_cost=3.0\n",
        "  else:\n",
        "    distance_cost=7.0\n",
        "  return base_cost + weight_cost + distance_cost"
      ],
      "metadata": {
        "id": "G2DNMhoARziF"
      },
      "execution_count": null,
      "outputs": []
    },
    {
      "cell_type": "markdown",
      "source": [
        "Test shipping costs"
      ],
      "metadata": {
        "id": "--6p6mr-T4yN"
      }
    },
    {
      "cell_type": "code",
      "source": [
        "print(f\"Light,close:${get_shipping_cost(0.5,50)}\")\n",
        "print(f\"heavy,far:${get_shipping_cost(10,800)}\")"
      ],
      "metadata": {
        "colab": {
          "base_uri": "https://localhost:8080/"
        },
        "id": "DFOphAdkT8vW",
        "outputId": "58ff4276-6134-441b-8988-78160b927343"
      },
      "execution_count": null,
      "outputs": [
        {
          "output_type": "stream",
          "name": "stdout",
          "text": [
            "Light,close:$8.0\n",
            "heavy,far:$22.0\n"
          ]
        }
      ]
    },
    {
      "cell_type": "markdown",
      "source": [
        "Loops-For Loops"
      ],
      "metadata": {
        "id": "HnhnKtZiWgfv"
      }
    },
    {
      "cell_type": "code",
      "source": [
        "fruits=[\"apple\",\"banana\",\"orange\",\"graps\"]\n",
        "for fruit in fruits:\n",
        "  print(f\"I Like {fruit}\")"
      ],
      "metadata": {
        "colab": {
          "base_uri": "https://localhost:8080/"
        },
        "id": "W8B-U8_OWmju",
        "outputId": "876a61da-4d11-42fe-b5bb-7544a1f28d5a"
      },
      "execution_count": null,
      "outputs": [
        {
          "output_type": "stream",
          "name": "stdout",
          "text": [
            "I Like apple\n",
            "I Like banana\n",
            "I Like orange\n",
            "I Like graps\n"
          ]
        }
      ]
    },
    {
      "cell_type": "markdown",
      "source": [
        "Loop with enumerate"
      ],
      "metadata": {
        "id": "SSHWVXqBXrzn"
      }
    },
    {
      "cell_type": "code",
      "source": [
        "for i, fruit in enumerate(fruits):\n",
        "  print(f\"{i+1}.{fruit}\")"
      ],
      "metadata": {
        "colab": {
          "base_uri": "https://localhost:8080/"
        },
        "id": "eRgw6o8aXxof",
        "outputId": "79e3fe95-2070-4024-aaf9-3946e13de82d"
      },
      "execution_count": null,
      "outputs": [
        {
          "output_type": "stream",
          "name": "stdout",
          "text": [
            "1.apple\n",
            "2.banana\n",
            "3.orange\n",
            "4.graps\n"
          ]
        }
      ]
    },
    {
      "cell_type": "markdown",
      "source": [
        "Loop with range"
      ],
      "metadata": {
        "id": "GnDJQychsgB1"
      }
    },
    {
      "cell_type": "code",
      "source": [
        "for day in range(1,8):\n",
        "  print(f\"Day {day} of the week\")"
      ],
      "metadata": {
        "colab": {
          "base_uri": "https://localhost:8080/"
        },
        "id": "ljA5YAiDsyK0",
        "outputId": "b7fab314-e64f-406e-a88c-12ea9f4374c4"
      },
      "execution_count": null,
      "outputs": [
        {
          "output_type": "stream",
          "name": "stdout",
          "text": [
            "Day 1 of the week\n",
            "Day 2 of the week\n",
            "Day 3 of the week\n",
            "Day 4 of the week\n",
            "Day 5 of the week\n",
            "Day 6 of the week\n",
            "Day 7 of the week\n"
          ]
        }
      ]
    },
    {
      "cell_type": "markdown",
      "source": [
        "Nested loops-creating a multiplication table"
      ],
      "metadata": {
        "id": "aMASIMrttGaE"
      }
    },
    {
      "cell_type": "code",
      "source": [
        "print(\"Multiplication table:\")\n",
        "for i in range(1,6):\n",
        "  for j in range(1,6):\n",
        "    product=i*j\n",
        "    print(f\"{i} X {j} = {product:2d}\",end=\" \")\n",
        "    print()"
      ],
      "metadata": {
        "colab": {
          "base_uri": "https://localhost:8080/"
        },
        "id": "fg4f8104tMFj",
        "outputId": "34b2dc5c-a35a-4a89-f023-cbeb68c48d4f"
      },
      "execution_count": null,
      "outputs": [
        {
          "output_type": "stream",
          "name": "stdout",
          "text": [
            "Multiplication table:\n",
            "1 X 1 =  1 \n",
            "1 X 2 =  2 \n",
            "1 X 3 =  3 \n",
            "1 X 4 =  4 \n",
            "1 X 5 =  5 \n",
            "2 X 1 =  2 \n",
            "2 X 2 =  4 \n",
            "2 X 3 =  6 \n",
            "2 X 4 =  8 \n",
            "2 X 5 = 10 \n",
            "3 X 1 =  3 \n",
            "3 X 2 =  6 \n",
            "3 X 3 =  9 \n",
            "3 X 4 = 12 \n",
            "3 X 5 = 15 \n",
            "4 X 1 =  4 \n",
            "4 X 2 =  8 \n",
            "4 X 3 = 12 \n",
            "4 X 4 = 16 \n",
            "4 X 5 = 20 \n",
            "5 X 1 =  5 \n",
            "5 X 2 = 10 \n",
            "5 X 3 = 15 \n",
            "5 X 4 = 20 \n",
            "5 X 5 = 25 \n"
          ]
        }
      ]
    },
    {
      "cell_type": "markdown",
      "source": [
        "processing data with loops"
      ],
      "metadata": {
        "id": "-waF1E_it8I0"
      }
    },
    {
      "cell_type": "code",
      "source": [
        "sales_data=[\n",
        "    {\"product\":\"Laptop\",\"price\":999,\"quantity\":5},\n",
        "    {\"product\":\"Phone\",\"price\":599,\"quantity\":10},\n",
        "    {\"product\":\"Tablet\",\"price\":399,\"quantity\":8}\n",
        "]\n",
        "total_revenue=0\n",
        "\n",
        "for item in sales_data:\n",
        "  item_revenue = item[\"price\"] * item[\"quantity\"]\n",
        "  total_revenue += item_revenue\n",
        "  print(f\"{item['product']}:${item_revenue}\")\n",
        "\n",
        "  print(f\"Total Revenue:${total_revenue}\")"
      ],
      "metadata": {
        "colab": {
          "base_uri": "https://localhost:8080/"
        },
        "id": "s2ZIajPouQ1k",
        "outputId": "8c847c3d-5344-48af-8908-c4fac00de344"
      },
      "execution_count": null,
      "outputs": [
        {
          "output_type": "stream",
          "name": "stdout",
          "text": [
            "Laptop:$4995\n",
            "Total Revenue:$4995\n",
            "Phone:$5990\n",
            "Total Revenue:$10985\n",
            "Tablet:$3192\n",
            "Total Revenue:$14177\n"
          ]
        }
      ]
    },
    {
      "cell_type": "markdown",
      "source": [
        "while loop for user input simulation"
      ],
      "metadata": {
        "id": "r0D2jeuVw4Lt"
      }
    },
    {
      "cell_type": "code",
      "source": [
        "def simple_guessing_game():\n",
        "  target=7\n",
        "  guess=0\n",
        "  attempts=0\n",
        "  print(\"guess the number between 1 and 10\")\n",
        "\n",
        "  while guess != target:\n",
        "\n",
        "    import random\n",
        "    guess = random.randint(1,10)\n",
        "    attempts+=1\n",
        "\n",
        "    if guess<target:\n",
        "      print(f\"Guess{attempts}:{guess}-Too low!\")\n",
        "    elif guess>target:\n",
        "      print(f\"Guess{attempts}:{guess}-Too high!\")\n",
        "    else:\n",
        "      print(f\"Guess{attempts}:{guess}-correct!\")\n",
        "\n",
        "    if attempts>10:\n",
        "        print(\"Max attempts reached!\")\n",
        "        break\n",
        "  print(f\"Game finished in {attempts} attempts\")\n",
        "\n",
        "simple_guessing_game()"
      ],
      "metadata": {
        "colab": {
          "base_uri": "https://localhost:8080/"
        },
        "id": "qY0YoCU8xI-V",
        "outputId": "9404016b-eaa5-42c5-f325-53764c9fea74"
      },
      "execution_count": null,
      "outputs": [
        {
          "output_type": "stream",
          "name": "stdout",
          "text": [
            "guess the number between 1 and 10\n",
            "Guess1:5-Too low!\n",
            "Guess2:6-Too low!\n",
            "Guess3:9-Too high!\n",
            "Guess4:8-Too high!\n",
            "Guess5:8-Too high!\n",
            "Guess6:8-Too high!\n",
            "Guess7:1-Too low!\n",
            "Guess8:6-Too low!\n",
            "Guess9:9-Too high!\n",
            "Guess10:3-Too low!\n",
            "Guess11:2-Too low!\n",
            "Max attempts reached!\n",
            "Game finished in 11 attempts\n"
          ]
        }
      ]
    },
    {
      "cell_type": "markdown",
      "source": [
        "While loop for processing"
      ],
      "metadata": {
        "id": "Ywj_pHaU0E6V"
      }
    },
    {
      "cell_type": "code",
      "source": [
        "def process_queue():\n",
        "  queue=[\"Task 1\",\"Task 2\",\"Task 3\",\"Task 4\"]\n",
        "\n",
        "  while queue:\n",
        "    current_task=queue.pop(0) #Remove first item\n",
        "    print(f\"Processing:{current_task}\")\n",
        "\n",
        "    print(f\"Remaining tasks:{len(queue)}\")\n",
        "\n",
        "  print(\"All tasks completed!\")\n",
        "\n",
        "process_queue()"
      ],
      "metadata": {
        "colab": {
          "base_uri": "https://localhost:8080/"
        },
        "id": "8M-wFhIL0KkN",
        "outputId": "c0243545-37ee-469e-dee5-28b2f887d44a"
      },
      "execution_count": null,
      "outputs": [
        {
          "output_type": "stream",
          "name": "stdout",
          "text": [
            "Processing:Task 1\n",
            "Remaining tasks:3\n",
            "Processing:Task 2\n",
            "Remaining tasks:2\n",
            "Processing:Task 3\n",
            "Remaining tasks:1\n",
            "Processing:Task 4\n",
            "Remaining tasks:0\n",
            "All tasks completed!\n"
          ]
        }
      ]
    },
    {
      "cell_type": "markdown",
      "source": [
        "Function Basics"
      ],
      "metadata": {
        "id": "oDrCqc3j1t4d"
      }
    },
    {
      "cell_type": "markdown",
      "source": [
        "Basic function definition"
      ],
      "metadata": {
        "id": "5QGIc-oZ1zmc"
      }
    },
    {
      "cell_type": "code",
      "source": [
        "def greet(name):\n",
        "  return f\"Hello,{name}!\""
      ],
      "metadata": {
        "id": "9Gw66fWJ156k"
      },
      "execution_count": null,
      "outputs": []
    },
    {
      "cell_type": "markdown",
      "source": [
        "Function call"
      ],
      "metadata": {
        "id": "viaPAwKw2dwF"
      }
    },
    {
      "cell_type": "code",
      "source": [
        "message=greet(\"python programmer\")\n",
        "print(message)"
      ],
      "metadata": {
        "colab": {
          "base_uri": "https://localhost:8080/"
        },
        "id": "zllXOcie2ihF",
        "outputId": "3479b08c-7fcc-44e1-bdca-341c6afa242a"
      },
      "execution_count": null,
      "outputs": [
        {
          "output_type": "stream",
          "name": "stdout",
          "text": [
            "Hello,python programmer!\n"
          ]
        }
      ]
    },
    {
      "cell_type": "markdown",
      "source": [
        "Function with multiple parameters"
      ],
      "metadata": {
        "id": "IPjRLbya221G"
      }
    },
    {
      "cell_type": "code",
      "source": [
        "def calculate_area(length,width):\n",
        "  area=length*width\n",
        "  return area"
      ],
      "metadata": {
        "id": "qYa7cd-e28cl"
      },
      "execution_count": null,
      "outputs": []
    },
    {
      "cell_type": "markdown",
      "source": [
        "Test the Function"
      ],
      "metadata": {
        "id": "1em_7EAE3QKN"
      }
    },
    {
      "cell_type": "code",
      "source": [
        "room_area=calculate_area(12,10)\n",
        "print(f\"Room area:{room_area} square feet\")"
      ],
      "metadata": {
        "colab": {
          "base_uri": "https://localhost:8080/"
        },
        "id": "qm94tqya3TxF",
        "outputId": "be735de9-3ac3-4a1a-a306-e55e3ad6c86a"
      },
      "execution_count": null,
      "outputs": [
        {
          "output_type": "stream",
          "name": "stdout",
          "text": [
            "Room are:120 square feet\n"
          ]
        }
      ]
    },
    {
      "cell_type": "markdown",
      "source": [
        "Function with default parameters"
      ],
      "metadata": {
        "id": "Q9ZctuhK4B-m"
      }
    },
    {
      "cell_type": "code",
      "source": [
        "def create_user_profile(name, age=18, location=\"unknow\", active=True):\n",
        "  return{\n",
        "      \"name\": name,\n",
        "      \"age\": age,\n",
        "      \"location\": location,\n",
        "      \"active\": active\n",
        "  }\n"
      ],
      "metadata": {
        "id": "c4Dcz5MY4F39"
      },
      "execution_count": null,
      "outputs": []
    },
    {
      "cell_type": "markdown",
      "source": [
        "Different ways to call"
      ],
      "metadata": {
        "id": "OyrqBj5H5GFW"
      }
    },
    {
      "cell_type": "code",
      "source": [
        "profile1=create_user_profile(\"Alice\") #use default\n",
        "profile2=create_user_profile(\"Bob\",25) #override age\n",
        "profile3=create_user_profile(\"charlie\",location=\"New York\",age=30) #named parameter\n",
        "print(f\"Profile1:{profile1}\")\n",
        "print(f\"Profile2:{profile2}\")\n",
        "print(f\"Profile3:{profile3}\")\n"
      ],
      "metadata": {
        "colab": {
          "base_uri": "https://localhost:8080/"
        },
        "id": "UBrebkM_5Mt-",
        "outputId": "125090c8-cf8a-4dee-ab2e-85f0d9d2e92d"
      },
      "execution_count": null,
      "outputs": [
        {
          "output_type": "stream",
          "name": "stdout",
          "text": [
            "Profile1:{'name': 'Alice', 'age': 18, 'location': 'unknow', 'active': True}\n",
            "Profile2:{'name': 'Bob', 'age': 25, 'location': 'unknow', 'active': True}\n",
            "Profile3:{'name': 'charlie', 'age': 30, 'location': 'New York', 'active': True}\n"
          ]
        }
      ]
    },
    {
      "cell_type": "markdown",
      "source": [
        "Advanced Function Concepts"
      ],
      "metadata": {
        "id": "Oh5P3Two7l1m"
      }
    },
    {
      "cell_type": "markdown",
      "source": [
        "Function returning multiple values"
      ],
      "metadata": {
        "id": "cl78PAEt7sdG"
      }
    },
    {
      "cell_type": "code",
      "source": [
        "def analyze_text(text):\n",
        "  words=text.split()\n",
        "  word_count=len(words)\n",
        "  char_count=len(text)\n",
        "  char_count_no_spaces=len(text.replace(\" \",\"\"))\n",
        "\n",
        "  return word_count,char_count,char_count_no_spaces\n"
      ],
      "metadata": {
        "id": "GKp-xMtm73fe"
      },
      "execution_count": null,
      "outputs": []
    },
    {
      "cell_type": "markdown",
      "source": [
        "Test with sample text"
      ],
      "metadata": {
        "id": "LF9fB0Br9jme"
      }
    },
    {
      "cell_type": "code",
      "source": [
        "sample_text=\"python is a powerfull programming language\"\n",
        "\n",
        "words, chars, chars_no_space=analyze_text(sample_text)\n",
        "\n",
        "print(f\"text:'{sample_text}'\")\n",
        "print(f\"Word count:{words}\")\n",
        "print(f\"Character count:{chars}\")\n",
        "print(f\"Characters (no spaces):{chars_no_space}\")"
      ],
      "metadata": {
        "colab": {
          "base_uri": "https://localhost:8080/"
        },
        "id": "ikQBk1XY9u2-",
        "outputId": "6cf2a83a-578f-4d07-8d6b-78ed9218cf1a"
      },
      "execution_count": null,
      "outputs": [
        {
          "output_type": "stream",
          "name": "stdout",
          "text": [
            "text:'python is a powerfull programming language'\n",
            "Word count:6\n",
            "Character count:42\n",
            "Characters (no spaces):37\n"
          ]
        }
      ]
    },
    {
      "cell_type": "markdown",
      "source": [
        "Variable-length argument"
      ],
      "metadata": {
        "id": "7sxyO1NY_eVe"
      }
    },
    {
      "cell_type": "code",
      "source": [
        "def calculate_average(*numbers):\n",
        "  if not numbers:\n",
        "    return 0\n",
        "\n",
        "    return sum(numbers)/len(numbers)"
      ],
      "metadata": {
        "id": "Go4U9Vzc_pK-"
      },
      "execution_count": null,
      "outputs": []
    },
    {
      "cell_type": "markdown",
      "source": [
        "Test with different numbers of arguments"
      ],
      "metadata": {
        "id": "h3E8m3Hm_7-X"
      }
    },
    {
      "cell_type": "code",
      "source": [
        "avg1=calculate_average(10,20,30)\n",
        "avg2=calculate_average(5,15,25,35,45)\n",
        "avg3=calculate_average(100)"
      ],
      "metadata": {
        "id": "pnhsIJ18AAmm"
      },
      "execution_count": null,
      "outputs": []
    },
    {
      "cell_type": "code",
      "source": [
        "print(f\"Average of 10,20,30:{avg1}\")\n",
        "print(f\"Average of 5,15,25,35,45:{avg2}\")\n",
        "print(f\"Average of 100:{avg3}\")"
      ],
      "metadata": {
        "colab": {
          "base_uri": "https://localhost:8080/"
        },
        "id": "sKVLOCzUAjj3",
        "outputId": "ba9da39e-0709-4cb1-f44a-59e7e852a4b4"
      },
      "execution_count": null,
      "outputs": [
        {
          "output_type": "stream",
          "name": "stdout",
          "text": [
            "Average of 10,20,30:None\n",
            "Average of 5,15,25,35,45:None\n",
            "Average of 100:None\n"
          ]
        }
      ]
    },
    {
      "cell_type": "markdown",
      "source": [
        "Keyword arguments"
      ],
      "metadata": {
        "id": "UHEzKtneBBMf"
      }
    },
    {
      "cell_type": "code",
      "source": [
        "def create_report(**data):\n",
        "  print(\"=== REPORT ===\")\n",
        "\n",
        "  for key,value in data.items():\n",
        "    print(f\"{key.replace('_',' ').title()}:{value}\")\n",
        "\n",
        "  print(\"===============\")\n",
        "\n",
        "create_report(\n",
        "        title=\"Monthly Sales Reports\",\n",
        "        date=\"2024-01-01\",\n",
        "        total_sales=15000,\n",
        "        new_customers=25,\n",
        "        returning_customers=150\n",
        "    )"
      ],
      "metadata": {
        "colab": {
          "base_uri": "https://localhost:8080/"
        },
        "id": "qb-CYpI1BEZ2",
        "outputId": "9d02f55e-9a05-433e-b98d-14a4348dffd0"
      },
      "execution_count": null,
      "outputs": [
        {
          "output_type": "stream",
          "name": "stdout",
          "text": [
            "=== REPORT ===\n",
            "Title:Monthly Sales Reports\n",
            "Date:2024-01-01\n",
            "Total Sales:15000\n",
            "New Customers:25\n",
            "Returning Customers:150\n",
            "===============\n"
          ]
        }
      ]
    },
    {
      "cell_type": "markdown",
      "source": [
        "Lambda functions(anonymous function)"
      ],
      "metadata": {
        "id": "dLRfU8vpDqav"
      }
    },
    {
      "cell_type": "markdown",
      "source": [
        "Regular function"
      ],
      "metadata": {
        "id": "Llk25ObhD7ho"
      }
    },
    {
      "cell_type": "code",
      "source": [
        "def square(x):\n",
        "  return x ** 2"
      ],
      "metadata": {
        "id": "UrTAagK7D4OH"
      },
      "execution_count": null,
      "outputs": []
    },
    {
      "cell_type": "markdown",
      "source": [
        "Lambda equivalent"
      ],
      "metadata": {
        "id": "hf6DvOzvEGe3"
      }
    },
    {
      "cell_type": "code",
      "source": [
        "square_lambda=lambda x: x**2\n",
        "print(f\"Regular function:{square(5)}\")\n",
        "print(f\"Lambda function:{square_lambda(5)}\")"
      ],
      "metadata": {
        "colab": {
          "base_uri": "https://localhost:8080/"
        },
        "id": "Tg1bVj_AEKlX",
        "outputId": "c7583d70-870c-4a92-8066-71ce110b8aa1"
      },
      "execution_count": null,
      "outputs": [
        {
          "output_type": "stream",
          "name": "stdout",
          "text": [
            "Regular function:25\n",
            "Lambda function:25\n"
          ]
        }
      ]
    },
    {
      "cell_type": "markdown",
      "source": [
        "Lambda with multiple arguments"
      ],
      "metadata": {
        "id": "pD4fbCYQG7gY"
      }
    },
    {
      "cell_type": "code",
      "source": [
        "multiply=lambda x,y:x*y\n",
        "print(f\"Multiply: {multiply(3,4)}\")"
      ],
      "metadata": {
        "colab": {
          "base_uri": "https://localhost:8080/"
        },
        "id": "3XdLOJsFHAg_",
        "outputId": "cf1713e5-39a6-46e1-f577-69be8090b904"
      },
      "execution_count": null,
      "outputs": [
        {
          "output_type": "stream",
          "name": "stdout",
          "text": [
            "Multiply: 12\n"
          ]
        }
      ]
    },
    {
      "cell_type": "markdown",
      "source": [
        "Lambda with built-functions"
      ],
      "metadata": {
        "id": "ox-gZhTQHWno"
      }
    },
    {
      "cell_type": "code",
      "source": [
        "numbers= [1,2,3,4,5]\n",
        "squared= list(map(lambda x: x**2,numbers))\n",
        "print(f\"Squared numbers: {squared}\")"
      ],
      "metadata": {
        "colab": {
          "base_uri": "https://localhost:8080/"
        },
        "id": "ojlnELOlHrtn",
        "outputId": "90c3f1ff-8e85-401d-b4cf-daa1e331f2d8"
      },
      "execution_count": null,
      "outputs": [
        {
          "output_type": "stream",
          "name": "stdout",
          "text": [
            "Squared numbers: [1, 4, 9, 16, 25]\n"
          ]
        }
      ]
    },
    {
      "cell_type": "markdown",
      "source": [
        "Filtering with lambda"
      ],
      "metadata": {
        "id": "cMzquK_RIctA"
      }
    },
    {
      "cell_type": "code",
      "source": [
        "ages=[16,21,35,12,45,18,67]\n",
        "adults=list(filter(lambda age: age>=18, ages))\n",
        "print(f\"Adult ages:{adults}\")"
      ],
      "metadata": {
        "colab": {
          "base_uri": "https://localhost:8080/"
        },
        "id": "G4RfMvJRIlgQ",
        "outputId": "d866a3f6-dbdd-4a4d-ca9b-ef36d47ca5dc"
      },
      "execution_count": null,
      "outputs": [
        {
          "output_type": "stream",
          "name": "stdout",
          "text": [
            "Adult ages:[21, 35, 45, 18, 67]\n"
          ]
        }
      ]
    },
    {
      "cell_type": "markdown",
      "source": [
        "Sorting with Lambda"
      ],
      "metadata": {
        "id": "HgnxesbZJK-K"
      }
    },
    {
      "cell_type": "code",
      "source": [
        "people=[\n",
        "    {\"name\":\"Alice\",\"age\":30},\n",
        "    {\"name\":\"Bob\",\"age\":25},\n",
        "    {\"name\":\"Charlie\",\"age\":35}\n",
        "]\n",
        "sorted_people=sorted(\n",
        "    people,\n",
        "    key=lambda person: person[\"age\"])\n",
        "print(\"people sorted by age:\")\n",
        "\n",
        "for person in sorted_people:\n",
        "  print(f\" {person['name']}: {person['age']}\")\n"
      ],
      "metadata": {
        "colab": {
          "base_uri": "https://localhost:8080/"
        },
        "id": "ET8oKoZGJTYP",
        "outputId": "6fade5e2-599b-44c1-d424-950a87b78b42"
      },
      "execution_count": null,
      "outputs": [
        {
          "output_type": "stream",
          "name": "stdout",
          "text": [
            "people sorted by age:\n",
            " Bob: 25\n",
            " Alice: 30\n",
            " Charlie: 35\n"
          ]
        }
      ]
    }
  ]
}