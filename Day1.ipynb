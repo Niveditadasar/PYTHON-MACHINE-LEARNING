{
  "nbformat": 4,
  "nbformat_minor": 0,
  "metadata": {
    "colab": {
      "provenance": []
    },
    "kernelspec": {
      "name": "python3",
      "display_name": "Python 3"
    },
    "language_info": {
      "name": "python"
    }
  },
  "cells": [
    {
      "cell_type": "code",
      "source": [
        "n=\"Nivedita\"\n",
        "print(n)\n",
        "print(\"This is my name\",n)"
      ],
      "metadata": {
        "colab": {
          "base_uri": "https://localhost:8080/"
        },
        "id": "BsfiBDoJ-Nps",
        "outputId": "6deb1708-5c07-41bb-b3bd-ce078bcb0ed9"
      },
      "execution_count": null,
      "outputs": [
        {
          "output_type": "stream",
          "name": "stdout",
          "text": [
            "Nivedita\n",
            "This is my name Nivedita\n"
          ]
        }
      ]
    },
    {
      "cell_type": "code",
      "source": [
        "print(\"Hello world...!\")# Function call\n",
        "x=5 # Variable assignment\n",
        "y=10 # No need to declare type"
      ],
      "metadata": {
        "colab": {
          "base_uri": "https://localhost:8080/"
        },
        "id": "gQv1wXXNAWor",
        "outputId": "834cfb53-94de-414f-9a3a-d17f1133692f"
      },
      "execution_count": null,
      "outputs": [
        {
          "output_type": "stream",
          "name": "stdout",
          "text": [
            "Hello world...!\n"
          ]
        }
      ]
    },
    {
      "cell_type": "code",
      "source": [
        "if x>0:\n",
        "  print(\"x is positive\") # 4 spaces indentation\n",
        "  print(\"This is inside the if block\")\n"
      ],
      "metadata": {
        "colab": {
          "base_uri": "https://localhost:8080/"
        },
        "id": "-hHTygXIGwaC",
        "outputId": "5965c9f3-06e4-4a4f-a421-b5f4fb74e9f6"
      },
      "execution_count": null,
      "outputs": [
        {
          "output_type": "stream",
          "name": "stdout",
          "text": [
            "x is positive\n",
            "This is inside the if block\n"
          ]
        }
      ]
    },
    {
      "cell_type": "code",
      "source": [
        "age=25 # int\n",
        "height=5.9 # float\n",
        "complex_num=3+4j # complex\n",
        "print(age,height,complex_num)\n",
        "print(type(age),\"\\n\",type(height),\"\\n\",type(complex_num))"
      ],
      "metadata": {
        "colab": {
          "base_uri": "https://localhost:8080/"
        },
        "id": "oK5fXZMSJwXS",
        "outputId": "ca3291ab-867a-4fe8-87f0-3334a05fc958"
      },
      "execution_count": null,
      "outputs": [
        {
          "output_type": "stream",
          "name": "stdout",
          "text": [
            "25 5.9 (3+4j)\n",
            "<class 'int'> \n",
            " <class 'float'> \n",
            " <class 'complex'>\n"
          ]
        }
      ]
    },
    {
      "cell_type": "code",
      "source": [
        "is_active=True\n",
        "is_finished=False\n",
        "print(is_active,is_finished)"
      ],
      "metadata": {
        "colab": {
          "base_uri": "https://localhost:8080/"
        },
        "id": "dngS6jLNNbiy",
        "outputId": "c0056b1f-a7b3-4f20-ac06-4438ba339c07"
      },
      "execution_count": null,
      "outputs": [
        {
          "output_type": "stream",
          "name": "stdout",
          "text": [
            "True False\n"
          ]
        }
      ]
    },
    {
      "cell_type": "code",
      "source": [
        "\n",
        "print(type(age)) #<class 'int'>\n",
        "print(type(height)) #<class 'float'>\n",
        "print(type(n)) #<class 'string'>\n",
        "print(type(is_finished))#<class 'boolean'>"
      ],
      "metadata": {
        "colab": {
          "base_uri": "https://localhost:8080/"
        },
        "id": "4_DAPfHnOCKY",
        "outputId": "9c976e27-9b92-4158-b67b-2981ccbf7312"
      },
      "execution_count": null,
      "outputs": [
        {
          "output_type": "stream",
          "name": "stdout",
          "text": [
            "<class 'int'>\n",
            "<class 'float'>\n",
            "<class 'str'>\n",
            "<class 'bool'>\n"
          ]
        }
      ]
    },
    {
      "cell_type": "code",
      "source": [
        "str_num=\"123\"\n",
        "int_num=int(str_num)\n",
        "float_num=float(str_num)\n",
        "print(f\"original:{str_num} (type:{type(str_num)})\")\n",
        "print(f\"Integer:{int_num} (type:{type(int_num)})\")\n",
        "print(f\"Float:{float_num}(type:{type(float_num)})\")"
      ],
      "metadata": {
        "colab": {
          "base_uri": "https://localhost:8080/"
        },
        "id": "OLh8B0PLPtGh",
        "outputId": "19daa25f-4c49-4758-b893-eec4915132dd"
      },
      "execution_count": null,
      "outputs": [
        {
          "output_type": "stream",
          "name": "stdout",
          "text": [
            "original:123 (type:<class 'str'>)\n",
            "Integer:123 (type:<class 'int'>)\n",
            "Float:123.0(type:<class 'float'>)\n"
          ]
        }
      ]
    },
    {
      "cell_type": "code",
      "source": [
        "first_name=\"Nivedita\"\n",
        "last_name=\"Dasar\"\n",
        "age=20\n",
        "height=5\n",
        "is_student=True\n",
        "print(f\"Name:{first_name} {last_name}\")\n",
        "print(f\"Age:{age}\")\n",
        "print(f\"Height:{height} feet\")\n",
        "print(f\"Student:{is_student}\")"
      ],
      "metadata": {
        "colab": {
          "base_uri": "https://localhost:8080/"
        },
        "id": "1xmFjgDuiHS7",
        "outputId": "2a9ebe25-aa34-4a11-bd8d-e9d90ae8e713"
      },
      "execution_count": null,
      "outputs": [
        {
          "output_type": "stream",
          "name": "stdout",
          "text": [
            "Name:Nivedita Dasar\n",
            "Age:20\n",
            "Height:5 feet\n",
            "Student:True\n"
          ]
        }
      ]
    },
    {
      "cell_type": "code",
      "source": [
        "age_str=str(age)\n",
        "height_int=int(height)\n",
        "print(f\"Age as string:{age_str}\")\n",
        "print(f\"Height as integer:{height_int}\")"
      ],
      "metadata": {
        "colab": {
          "base_uri": "https://localhost:8080/"
        },
        "id": "Z_H9IVZ0j3QS",
        "outputId": "f9726b4b-ea10-4524-813d-f0d601759851"
      },
      "execution_count": null,
      "outputs": [
        {
          "output_type": "stream",
          "name": "stdout",
          "text": [
            "Age as string:20\n",
            "Height as integer:5\n"
          ]
        }
      ]
    },
    {
      "cell_type": "code",
      "source": [
        "a=20\n",
        "b=10\n",
        "print(f\"Addition:{a}+{b}={a+b}\")\n",
        "print(f\"Subtraction:{a}-{b}={a-b}\")\n",
        "print(f\"Multiplication:{a}*{b}={a*b}\")\n",
        "print(f\"Division:{a}/{b}={a/b}\")\n",
        "print(f\"Floor Division:{a}//{b}={a//b}\")\n",
        "print(f\"Modulus:{a}%{b}={a%b}\")\n",
        "print(f\"Exponentiation:{a}**{b}={a**b}\")"
      ],
      "metadata": {
        "colab": {
          "base_uri": "https://localhost:8080/"
        },
        "id": "X1jQVfk2mh2h",
        "outputId": "ba31ed5f-efd0-49fb-c235-460f2b37f2f7"
      },
      "execution_count": null,
      "outputs": [
        {
          "output_type": "stream",
          "name": "stdout",
          "text": [
            "Addition:20+10=30\n",
            "Subtraction:20-10=10\n",
            "Multiplication:20*10=200\n",
            "Division:20/10=2.0\n",
            "Floor Division:20//10=2\n",
            "Modulus:20%10=0\n",
            "Exponentiation:20**10=10240000000000\n"
          ]
        }
      ]
    },
    {
      "cell_type": "code",
      "source": [
        "result=5+3*2**2-1\n",
        "print(f\"5+3*2**2-1={result}\")"
      ],
      "metadata": {
        "colab": {
          "base_uri": "https://localhost:8080/"
        },
        "id": "4YWqvtN6onaZ",
        "outputId": "e4713b2d-faea-426e-f9ef-7a79c8d92d06"
      },
      "execution_count": null,
      "outputs": [
        {
          "output_type": "stream",
          "name": "stdout",
          "text": [
            "5+3*2**2-1=16\n"
          ]
        }
      ]
    },
    {
      "cell_type": "code",
      "source": [
        "x=20\n",
        "y=10\n",
        "print(f\"{x==y}\")# Equal to\n",
        "print(f\"{x!=y}\")# Not Equal to\n",
        "print(f\"{x<y}\")# Less than\n",
        "print(f\"{x>y}\")#Greater than\n",
        "print(f\"{x<=y}\")# Less than or equal\n",
        "print(f\"{x>=y}\")# Greater than or equal"
      ],
      "metadata": {
        "colab": {
          "base_uri": "https://localhost:8080/"
        },
        "id": "mmFpfJ-Ksy8x",
        "outputId": "9609a141-e442-482f-9723-7364f4ec8c95"
      },
      "execution_count": null,
      "outputs": [
        {
          "output_type": "stream",
          "name": "stdout",
          "text": [
            "False\n",
            "True\n",
            "False\n",
            "True\n",
            "False\n",
            "True\n"
          ]
        }
      ]
    },
    {
      "cell_type": "code",
      "source": [
        "p=True\n",
        "q=False\n",
        "print(f\"p and q:{p and q}\")\n",
        "print(f\"p or q:{p or q}\")\n",
        "print(f\"not q:{not q}\")"
      ],
      "metadata": {
        "colab": {
          "base_uri": "https://localhost:8080/"
        },
        "id": "8dsDh8QevrA3",
        "outputId": "5324fa31-9e38-4c6f-f9df-9284e579c937"
      },
      "execution_count": null,
      "outputs": [
        {
          "output_type": "stream",
          "name": "stdout",
          "text": [
            "p and q:False\n",
            "p or q:True\n",
            "not q:True\n"
          ]
        }
      ]
    },
    {
      "cell_type": "code",
      "source": [
        "age=20\n",
        "has_license=True\n",
        "can_drive=age>=18 and has_license\n",
        "print(f\"can drive:{can_drive}\")"
      ],
      "metadata": {
        "colab": {
          "base_uri": "https://localhost:8080/"
        },
        "id": "aDISym1Dw5hI",
        "outputId": "8ad854f3-03a2-45bf-f5a6-2c847f461ce3"
      },
      "execution_count": null,
      "outputs": [
        {
          "output_type": "stream",
          "name": "stdout",
          "text": [
            "can drive:True\n"
          ]
        }
      ]
    },
    {
      "cell_type": "code",
      "source": [
        "score=85\n",
        "is_present=True\n",
        "can_pass=score>=80 and is_present\n",
        "print(f\"can pass:{can_pass}\")"
      ],
      "metadata": {
        "colab": {
          "base_uri": "https://localhost:8080/"
        },
        "id": "OlDWIFQ0xXhv",
        "outputId": "64d1b6d2-002f-4369-86eb-c95f0a58aa36"
      },
      "execution_count": null,
      "outputs": [
        {
          "output_type": "stream",
          "name": "stdout",
          "text": [
            "can pass:True\n"
          ]
        }
      ]
    },
    {
      "cell_type": "code",
      "source": [
        "#personal information\n",
        "age=20\n",
        "annual_income=12000\n",
        "credit_score=720\n",
        "has_collateral=True"
      ],
      "metadata": {
        "id": "1K5iiSvpzIlP"
      },
      "execution_count": null,
      "outputs": []
    },
    {
      "cell_type": "code",
      "source": [
        "#Loan criteria\n",
        "min_age=18\n",
        "min_income=30000\n",
        "min_credit_score=650"
      ],
      "metadata": {
        "id": "8YTLsmGez0Bf"
      },
      "execution_count": null,
      "outputs": []
    },
    {
      "cell_type": "code",
      "source": [
        "#check qalification\n",
        "age_qualified=age>=min_age\n",
        "income_qualified=annual_income>=min_income\n",
        "credit_qualified=credit_score>=min_credit_score\n",
        "overall_qualified=age_qualified and income_qualified and credit_qualified"
      ],
      "metadata": {
        "id": "Abpay8zr3NzX"
      },
      "execution_count": null,
      "outputs": []
    },
    {
      "cell_type": "code",
      "source": [
        "print(\"=== Loan qualification check===\")\n",
        "print(f\"Age:{age_qualified}\")\n",
        "print(f\"Income:{income_qualified}\")\n",
        "print(f\"Credit:{credit_qualified}\")\n",
        "print(f\"Overall:{overall_qualified}\")"
      ],
      "metadata": {
        "colab": {
          "base_uri": "https://localhost:8080/"
        },
        "id": "WABW3Dry4UzI",
        "outputId": "a3e31d18-8412-45a3-f112-52f120e8dbbc"
      },
      "execution_count": null,
      "outputs": [
        {
          "output_type": "stream",
          "name": "stdout",
          "text": [
            "=== Loan qualification check===\n",
            "Age:True\n",
            "Income:False\n",
            "Credit:True\n",
            "Overall:False\n"
          ]
        }
      ]
    },
    {
      "cell_type": "code",
      "source": [
        "fruits=[\"apple\",\"banana\",\"orange\",\"grape\"]\n",
        "nuumbers=[10,20,30,40,50]\n",
        "mixed_data=[1,\"Hello\",3.14,True]"
      ],
      "metadata": {
        "id": "_RvWwrnd-46d"
      },
      "execution_count": null,
      "outputs": []
    },
    {
      "cell_type": "code",
      "source": [
        "print(f\"first fruit:{fruits[0]}\")\n",
        "print(f\"Last fruit:{fruits[-1]}\")\n",
        "print(f\"Sencond to last:{fruits[-2]}\")\n"
      ],
      "metadata": {
        "colab": {
          "base_uri": "https://localhost:8080/"
        },
        "id": "GAQfSjRP_Unl",
        "outputId": "0731bda0-fc7d-44dc-de98-399747c4542e"
      },
      "execution_count": null,
      "outputs": [
        {
          "output_type": "stream",
          "name": "stdout",
          "text": [
            "first fruit:apple\n",
            "Last fruit:grape\n",
            "Sencond to last:orange\n"
          ]
        }
      ]
    },
    {
      "cell_type": "code",
      "source": [
        "#List slicing\n",
        "print(f\"First 2 fruits:{fruits[0:2]}\")\n",
        "print(f\"Last 2 fruits:{fruits[-2:1]}\")\n",
        "print(f\"All except first:{fruits[1:1]}\")"
      ],
      "metadata": {
        "colab": {
          "base_uri": "https://localhost:8080/"
        },
        "id": "EX549r-6_-4t",
        "outputId": "da0ecc51-7ace-4e5f-d787-54f3a40c54ef"
      },
      "execution_count": null,
      "outputs": [
        {
          "output_type": "stream",
          "name": "stdout",
          "text": [
            "First 2 fruits:['apple', 'banana']\n",
            "Last 2 fruits:[]\n",
            "All except first:[]\n"
          ]
        }
      ]
    },
    {
      "cell_type": "code",
      "source": [
        "#List methods\n",
        "fruits.append(\"kiwi\")#add to end\n",
        "fruits.insert(1,\"strawberry\")#Insert at index\n",
        "removed=fruits.pop()#Remove last\n",
        "print(f\"Updated list:{fruits}\")\n",
        "print(f\"Removed:{removed}\")"
      ],
      "metadata": {
        "colab": {
          "base_uri": "https://localhost:8080/"
        },
        "id": "r9mWyxgHA8me",
        "outputId": "3e3cfa63-85fc-4c9b-9cd4-4bf693d4fccd"
      },
      "execution_count": null,
      "outputs": [
        {
          "output_type": "stream",
          "name": "stdout",
          "text": [
            "Updated list:['apple', 'strawberry', 'strawberry', 'banana', 'orange', 'grape']\n",
            "Removed:kiwi\n"
          ]
        }
      ]
    },
    {
      "cell_type": "code",
      "source": [
        "#List operations\n",
        "print(f\"Length:{len(fruits)}\")\n",
        "print(f\"contains 'apple':{'apple' in fruits}\")\n",
        "print(f\"Index of 'banana':{fruits.index('banana')}\")"
      ],
      "metadata": {
        "colab": {
          "base_uri": "https://localhost:8080/"
        },
        "id": "HN7_8nbRCUNV",
        "outputId": "ca138a73-8f01-4880-93d4-c2325d5558df"
      },
      "execution_count": null,
      "outputs": [
        {
          "output_type": "stream",
          "name": "stdout",
          "text": [
            "Length:6\n",
            "contains 'apple':True\n",
            "Index of 'banana':3\n"
          ]
        }
      ]
    },
    {
      "cell_type": "code",
      "source": [
        "#Tuples\n",
        "coordinates=(10,20)\n",
        "rgb_color=(255,128,0)\n",
        "person_info=(\"Alice\",25,\"Engineer\",True)"
      ],
      "metadata": {
        "id": "tojyo1z8DgD9"
      },
      "execution_count": null,
      "outputs": []
    },
    {
      "cell_type": "code",
      "source": [
        "#Tuple unpacking\n",
        "x,y=coordinates\n",
        "print(f\"X:{x}, Y:{y}\")"
      ],
      "metadata": {
        "colab": {
          "base_uri": "https://localhost:8080/"
        },
        "id": "rWlsT_ENE3ol",
        "outputId": "358fd96f-65ed-4e82-ac1c-f64402d159b3"
      },
      "execution_count": null,
      "outputs": [
        {
          "output_type": "stream",
          "name": "stdout",
          "text": [
            "X:10, Y:20\n"
          ]
        }
      ]
    },
    {
      "cell_type": "code",
      "source": [
        "#Tuple  methods\n",
        "print(f\"Count of 25:{person_info.count(25)}\")\n",
        "print(f\"Index of 'Engineer':{person_info.index('Engineer')}\")"
      ],
      "metadata": {
        "colab": {
          "base_uri": "https://localhost:8080/"
        },
        "id": "eyGMAHJFFKBk",
        "outputId": "5c6a0763-d707-42f8-8f83-66334e86b6df"
      },
      "execution_count": null,
      "outputs": [
        {
          "output_type": "stream",
          "name": "stdout",
          "text": [
            "Count of 25:1\n",
            "Index of 'Engineer':2\n"
          ]
        }
      ]
    }
  ]
}